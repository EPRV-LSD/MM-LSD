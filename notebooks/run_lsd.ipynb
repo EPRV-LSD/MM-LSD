{
 "cells": [
  {
   "cell_type": "code",
   "execution_count": 1,
   "metadata": {},
   "outputs": [],
   "source": [
    "import numpy as np\n",
    "from pandas import read_csv, DataFrame, concat\n",
    "\n",
    "import matplotlib.pyplot as plt\n",
    "from matplotlib import rc,rcParams\n",
    "from matplotlib.cm import rainbow\n",
    "from matplotlib.colors import rgb2hex\n",
    "\n",
    "from scipy.sparse import csc_matrix\n",
    "from scipy.optimize import curve_fit\n",
    "from scipy.stats import median_abs_deviation\n",
    "\n",
    "from time import time\n",
    "from sys import path as syspath\n",
    "from sys import argv\n",
    "import os\n",
    "\n",
    "from multiprocessing import Pool,get_context\n",
    "from functools import partial\n",
    "import pickle\n",
    "\n",
    "t00 = time()\n",
    "\n",
    "try:\n",
    "    rc('text', usetex = True)\n",
    "except:\n",
    "    pass\n",
    "rc('xtick',labelsize=15)\n",
    "rc('ytick',labelsize=15)\n",
    "rcParams['font.family'] = 'STIXGeneral'\n",
    "rcParams['mathtext.fontset'] = 'stix'\n",
    "rcParams['hatch.linewidth'] = 2.0 \n",
    "\n",
    "plt.rcParams.update({\n",
    "    \"font.size\":15,\n",
    "    \"figure.facecolor\":  \"white\",  \n",
    "    \"axes.facecolor\":    \"white\", \n",
    "    \"savefig.facecolor\": \"white\", \n",
    "})\n",
    "\n",
    "try:\n",
    "    get_ipython().__class__.__name__\n",
    "    injupyternotebook = True\n",
    "\n",
    "except:\n",
    "    injupyternotebook = False\n"
   ]
  },
  {
   "cell_type": "code",
   "execution_count": 2,
   "metadata": {},
   "outputs": [
    {
     "data": {
      "text/html": [
       "<style>.container { width:90% !important; }</style>"
      ],
      "text/plain": [
       "<IPython.core.display.HTML object>"
      ]
     },
     "metadata": {},
     "output_type": "display_data"
    },
    {
     "data": {
      "text/html": [
       "\n",
       "    <div class=\"bk-root\">\n",
       "        <a href=\"https://bokeh.org\" target=\"_blank\" class=\"bk-logo bk-logo-small bk-logo-notebook\"></a>\n",
       "        <span id=\"1001\">Loading BokehJS ...</span>\n",
       "    </div>"
      ]
     },
     "metadata": {},
     "output_type": "display_data"
    },
    {
     "data": {
      "application/javascript": [
       "\n",
       "(function(root) {\n",
       "  function now() {\n",
       "    return new Date();\n",
       "  }\n",
       "\n",
       "  var force = true;\n",
       "\n",
       "  if (typeof root._bokeh_onload_callbacks === \"undefined\" || force === true) {\n",
       "    root._bokeh_onload_callbacks = [];\n",
       "    root._bokeh_is_loading = undefined;\n",
       "  }\n",
       "\n",
       "  var JS_MIME_TYPE = 'application/javascript';\n",
       "  var HTML_MIME_TYPE = 'text/html';\n",
       "  var EXEC_MIME_TYPE = 'application/vnd.bokehjs_exec.v0+json';\n",
       "  var CLASS_NAME = 'output_bokeh rendered_html';\n",
       "\n",
       "  /**\n",
       "   * Render data to the DOM node\n",
       "   */\n",
       "  function render(props, node) {\n",
       "    var script = document.createElement(\"script\");\n",
       "    node.appendChild(script);\n",
       "  }\n",
       "\n",
       "  /**\n",
       "   * Handle when an output is cleared or removed\n",
       "   */\n",
       "  function handleClearOutput(event, handle) {\n",
       "    var cell = handle.cell;\n",
       "\n",
       "    var id = cell.output_area._bokeh_element_id;\n",
       "    var server_id = cell.output_area._bokeh_server_id;\n",
       "    // Clean up Bokeh references\n",
       "    if (id != null && id in Bokeh.index) {\n",
       "      Bokeh.index[id].model.document.clear();\n",
       "      delete Bokeh.index[id];\n",
       "    }\n",
       "\n",
       "    if (server_id !== undefined) {\n",
       "      // Clean up Bokeh references\n",
       "      var cmd = \"from bokeh.io.state import curstate; print(curstate().uuid_to_server['\" + server_id + \"'].get_sessions()[0].document.roots[0]._id)\";\n",
       "      cell.notebook.kernel.execute(cmd, {\n",
       "        iopub: {\n",
       "          output: function(msg) {\n",
       "            var id = msg.content.text.trim();\n",
       "            if (id in Bokeh.index) {\n",
       "              Bokeh.index[id].model.document.clear();\n",
       "              delete Bokeh.index[id];\n",
       "            }\n",
       "          }\n",
       "        }\n",
       "      });\n",
       "      // Destroy server and session\n",
       "      var cmd = \"import bokeh.io.notebook as ion; ion.destroy_server('\" + server_id + \"')\";\n",
       "      cell.notebook.kernel.execute(cmd);\n",
       "    }\n",
       "  }\n",
       "\n",
       "  /**\n",
       "   * Handle when a new output is added\n",
       "   */\n",
       "  function handleAddOutput(event, handle) {\n",
       "    var output_area = handle.output_area;\n",
       "    var output = handle.output;\n",
       "\n",
       "    // limit handleAddOutput to display_data with EXEC_MIME_TYPE content only\n",
       "    if ((output.output_type != \"display_data\") || (!output.data.hasOwnProperty(EXEC_MIME_TYPE))) {\n",
       "      return\n",
       "    }\n",
       "\n",
       "    var toinsert = output_area.element.find(\".\" + CLASS_NAME.split(' ')[0]);\n",
       "\n",
       "    if (output.metadata[EXEC_MIME_TYPE][\"id\"] !== undefined) {\n",
       "      toinsert[toinsert.length - 1].firstChild.textContent = output.data[JS_MIME_TYPE];\n",
       "      // store reference to embed id on output_area\n",
       "      output_area._bokeh_element_id = output.metadata[EXEC_MIME_TYPE][\"id\"];\n",
       "    }\n",
       "    if (output.metadata[EXEC_MIME_TYPE][\"server_id\"] !== undefined) {\n",
       "      var bk_div = document.createElement(\"div\");\n",
       "      bk_div.innerHTML = output.data[HTML_MIME_TYPE];\n",
       "      var script_attrs = bk_div.children[0].attributes;\n",
       "      for (var i = 0; i < script_attrs.length; i++) {\n",
       "        toinsert[toinsert.length - 1].firstChild.setAttribute(script_attrs[i].name, script_attrs[i].value);\n",
       "        toinsert[toinsert.length - 1].firstChild.textContent = bk_div.children[0].textContent\n",
       "      }\n",
       "      // store reference to server id on output_area\n",
       "      output_area._bokeh_server_id = output.metadata[EXEC_MIME_TYPE][\"server_id\"];\n",
       "    }\n",
       "  }\n",
       "\n",
       "  function register_renderer(events, OutputArea) {\n",
       "\n",
       "    function append_mime(data, metadata, element) {\n",
       "      // create a DOM node to render to\n",
       "      var toinsert = this.create_output_subarea(\n",
       "        metadata,\n",
       "        CLASS_NAME,\n",
       "        EXEC_MIME_TYPE\n",
       "      );\n",
       "      this.keyboard_manager.register_events(toinsert);\n",
       "      // Render to node\n",
       "      var props = {data: data, metadata: metadata[EXEC_MIME_TYPE]};\n",
       "      render(props, toinsert[toinsert.length - 1]);\n",
       "      element.append(toinsert);\n",
       "      return toinsert\n",
       "    }\n",
       "\n",
       "    /* Handle when an output is cleared or removed */\n",
       "    events.on('clear_output.CodeCell', handleClearOutput);\n",
       "    events.on('delete.Cell', handleClearOutput);\n",
       "\n",
       "    /* Handle when a new output is added */\n",
       "    events.on('output_added.OutputArea', handleAddOutput);\n",
       "\n",
       "    /**\n",
       "     * Register the mime type and append_mime function with output_area\n",
       "     */\n",
       "    OutputArea.prototype.register_mime_type(EXEC_MIME_TYPE, append_mime, {\n",
       "      /* Is output safe? */\n",
       "      safe: true,\n",
       "      /* Index of renderer in `output_area.display_order` */\n",
       "      index: 0\n",
       "    });\n",
       "  }\n",
       "\n",
       "  // register the mime type if in Jupyter Notebook environment and previously unregistered\n",
       "  if (root.Jupyter !== undefined) {\n",
       "    var events = require('base/js/events');\n",
       "    var OutputArea = require('notebook/js/outputarea').OutputArea;\n",
       "\n",
       "    if (OutputArea.prototype.mime_types().indexOf(EXEC_MIME_TYPE) == -1) {\n",
       "      register_renderer(events, OutputArea);\n",
       "    }\n",
       "  }\n",
       "\n",
       "  \n",
       "  if (typeof (root._bokeh_timeout) === \"undefined\" || force === true) {\n",
       "    root._bokeh_timeout = Date.now() + 5000;\n",
       "    root._bokeh_failed_load = false;\n",
       "  }\n",
       "\n",
       "  var NB_LOAD_WARNING = {'data': {'text/html':\n",
       "     \"<div style='background-color: #fdd'>\\n\"+\n",
       "     \"<p>\\n\"+\n",
       "     \"BokehJS does not appear to have successfully loaded. If loading BokehJS from CDN, this \\n\"+\n",
       "     \"may be due to a slow or bad network connection. Possible fixes:\\n\"+\n",
       "     \"</p>\\n\"+\n",
       "     \"<ul>\\n\"+\n",
       "     \"<li>re-rerun `output_notebook()` to attempt to load from CDN again, or</li>\\n\"+\n",
       "     \"<li>use INLINE resources instead, as so:</li>\\n\"+\n",
       "     \"</ul>\\n\"+\n",
       "     \"<code>\\n\"+\n",
       "     \"from bokeh.resources import INLINE\\n\"+\n",
       "     \"output_notebook(resources=INLINE)\\n\"+\n",
       "     \"</code>\\n\"+\n",
       "     \"</div>\"}};\n",
       "\n",
       "  function display_loaded() {\n",
       "    var el = document.getElementById(\"1001\");\n",
       "    if (el != null) {\n",
       "      el.textContent = \"BokehJS is loading...\";\n",
       "    }\n",
       "    if (root.Bokeh !== undefined) {\n",
       "      if (el != null) {\n",
       "        el.textContent = \"BokehJS \" + root.Bokeh.version + \" successfully loaded.\";\n",
       "      }\n",
       "    } else if (Date.now() < root._bokeh_timeout) {\n",
       "      setTimeout(display_loaded, 100)\n",
       "    }\n",
       "  }\n",
       "\n",
       "\n",
       "  function run_callbacks() {\n",
       "    try {\n",
       "      root._bokeh_onload_callbacks.forEach(function(callback) {\n",
       "        if (callback != null)\n",
       "          callback();\n",
       "      });\n",
       "    } finally {\n",
       "      delete root._bokeh_onload_callbacks\n",
       "    }\n",
       "    console.debug(\"Bokeh: all callbacks have finished\");\n",
       "  }\n",
       "\n",
       "  function load_libs(css_urls, js_urls, callback) {\n",
       "    if (css_urls == null) css_urls = [];\n",
       "    if (js_urls == null) js_urls = [];\n",
       "\n",
       "    root._bokeh_onload_callbacks.push(callback);\n",
       "    if (root._bokeh_is_loading > 0) {\n",
       "      console.debug(\"Bokeh: BokehJS is being loaded, scheduling callback at\", now());\n",
       "      return null;\n",
       "    }\n",
       "    if (js_urls == null || js_urls.length === 0) {\n",
       "      run_callbacks();\n",
       "      return null;\n",
       "    }\n",
       "    console.debug(\"Bokeh: BokehJS not loaded, scheduling load and callback at\", now());\n",
       "    root._bokeh_is_loading = css_urls.length + js_urls.length;\n",
       "\n",
       "    function on_load() {\n",
       "      root._bokeh_is_loading--;\n",
       "      if (root._bokeh_is_loading === 0) {\n",
       "        console.debug(\"Bokeh: all BokehJS libraries/stylesheets loaded\");\n",
       "        run_callbacks()\n",
       "      }\n",
       "    }\n",
       "\n",
       "    function on_error() {\n",
       "      console.error(\"failed to load \" + url);\n",
       "    }\n",
       "\n",
       "    for (var i = 0; i < css_urls.length; i++) {\n",
       "      var url = css_urls[i];\n",
       "      const element = document.createElement(\"link\");\n",
       "      element.onload = on_load;\n",
       "      element.onerror = on_error;\n",
       "      element.rel = \"stylesheet\";\n",
       "      element.type = \"text/css\";\n",
       "      element.href = url;\n",
       "      console.debug(\"Bokeh: injecting link tag for BokehJS stylesheet: \", url);\n",
       "      document.body.appendChild(element);\n",
       "    }\n",
       "\n",
       "    const hashes = {\"https://cdn.bokeh.org/bokeh/release/bokeh-2.2.3.min.js\": \"T2yuo9Oe71Cz/I4X9Ac5+gpEa5a8PpJCDlqKYO0CfAuEszu1JrXLl8YugMqYe3sM\", \"https://cdn.bokeh.org/bokeh/release/bokeh-widgets-2.2.3.min.js\": \"98GDGJ0kOMCUMUePhksaQ/GYgB3+NH9h996V88sh3aOiUNX3N+fLXAtry6xctSZ6\", \"https://cdn.bokeh.org/bokeh/release/bokeh-tables-2.2.3.min.js\": \"89bArO+nlbP3sgakeHjCo1JYxYR5wufVgA3IbUvDY+K7w4zyxJqssu7wVnfeKCq8\"};\n",
       "\n",
       "    for (var i = 0; i < js_urls.length; i++) {\n",
       "      var url = js_urls[i];\n",
       "      var element = document.createElement('script');\n",
       "      element.onload = on_load;\n",
       "      element.onerror = on_error;\n",
       "      element.async = false;\n",
       "      element.src = url;\n",
       "      if (url in hashes) {\n",
       "        element.crossOrigin = \"anonymous\";\n",
       "        element.integrity = \"sha384-\" + hashes[url];\n",
       "      }\n",
       "      console.debug(\"Bokeh: injecting script tag for BokehJS library: \", url);\n",
       "      document.head.appendChild(element);\n",
       "    }\n",
       "  };\n",
       "\n",
       "  function inject_raw_css(css) {\n",
       "    const element = document.createElement(\"style\");\n",
       "    element.appendChild(document.createTextNode(css));\n",
       "    document.body.appendChild(element);\n",
       "  }\n",
       "\n",
       "  \n",
       "  var js_urls = [\"https://cdn.bokeh.org/bokeh/release/bokeh-2.2.3.min.js\", \"https://cdn.bokeh.org/bokeh/release/bokeh-widgets-2.2.3.min.js\", \"https://cdn.bokeh.org/bokeh/release/bokeh-tables-2.2.3.min.js\"];\n",
       "  var css_urls = [];\n",
       "  \n",
       "\n",
       "  var inline_js = [\n",
       "    function(Bokeh) {\n",
       "      Bokeh.set_log_level(\"info\");\n",
       "    },\n",
       "    function(Bokeh) {\n",
       "    \n",
       "    \n",
       "    }\n",
       "  ];\n",
       "\n",
       "  function run_inline_js() {\n",
       "    \n",
       "    if (root.Bokeh !== undefined || force === true) {\n",
       "      \n",
       "    for (var i = 0; i < inline_js.length; i++) {\n",
       "      inline_js[i].call(root, root.Bokeh);\n",
       "    }\n",
       "    if (force === true) {\n",
       "        display_loaded();\n",
       "      }} else if (Date.now() < root._bokeh_timeout) {\n",
       "      setTimeout(run_inline_js, 100);\n",
       "    } else if (!root._bokeh_failed_load) {\n",
       "      console.log(\"Bokeh: BokehJS failed to load within specified timeout.\");\n",
       "      root._bokeh_failed_load = true;\n",
       "    } else if (force !== true) {\n",
       "      var cell = $(document.getElementById(\"1001\")).parents('.cell').data().cell;\n",
       "      cell.output_area.append_execute_result(NB_LOAD_WARNING)\n",
       "    }\n",
       "\n",
       "  }\n",
       "\n",
       "  if (root._bokeh_is_loading === 0) {\n",
       "    console.debug(\"Bokeh: BokehJS loaded, going straight to plotting\");\n",
       "    run_inline_js();\n",
       "  } else {\n",
       "    load_libs(css_urls, js_urls, function() {\n",
       "      console.debug(\"Bokeh: BokehJS plotting callback run at\", now());\n",
       "      run_inline_js();\n",
       "    });\n",
       "  }\n",
       "}(window));"
      ],
      "application/vnd.bokehjs_load.v0+json": "\n(function(root) {\n  function now() {\n    return new Date();\n  }\n\n  var force = true;\n\n  if (typeof root._bokeh_onload_callbacks === \"undefined\" || force === true) {\n    root._bokeh_onload_callbacks = [];\n    root._bokeh_is_loading = undefined;\n  }\n\n  \n\n  \n  if (typeof (root._bokeh_timeout) === \"undefined\" || force === true) {\n    root._bokeh_timeout = Date.now() + 5000;\n    root._bokeh_failed_load = false;\n  }\n\n  var NB_LOAD_WARNING = {'data': {'text/html':\n     \"<div style='background-color: #fdd'>\\n\"+\n     \"<p>\\n\"+\n     \"BokehJS does not appear to have successfully loaded. If loading BokehJS from CDN, this \\n\"+\n     \"may be due to a slow or bad network connection. Possible fixes:\\n\"+\n     \"</p>\\n\"+\n     \"<ul>\\n\"+\n     \"<li>re-rerun `output_notebook()` to attempt to load from CDN again, or</li>\\n\"+\n     \"<li>use INLINE resources instead, as so:</li>\\n\"+\n     \"</ul>\\n\"+\n     \"<code>\\n\"+\n     \"from bokeh.resources import INLINE\\n\"+\n     \"output_notebook(resources=INLINE)\\n\"+\n     \"</code>\\n\"+\n     \"</div>\"}};\n\n  function display_loaded() {\n    var el = document.getElementById(\"1001\");\n    if (el != null) {\n      el.textContent = \"BokehJS is loading...\";\n    }\n    if (root.Bokeh !== undefined) {\n      if (el != null) {\n        el.textContent = \"BokehJS \" + root.Bokeh.version + \" successfully loaded.\";\n      }\n    } else if (Date.now() < root._bokeh_timeout) {\n      setTimeout(display_loaded, 100)\n    }\n  }\n\n\n  function run_callbacks() {\n    try {\n      root._bokeh_onload_callbacks.forEach(function(callback) {\n        if (callback != null)\n          callback();\n      });\n    } finally {\n      delete root._bokeh_onload_callbacks\n    }\n    console.debug(\"Bokeh: all callbacks have finished\");\n  }\n\n  function load_libs(css_urls, js_urls, callback) {\n    if (css_urls == null) css_urls = [];\n    if (js_urls == null) js_urls = [];\n\n    root._bokeh_onload_callbacks.push(callback);\n    if (root._bokeh_is_loading > 0) {\n      console.debug(\"Bokeh: BokehJS is being loaded, scheduling callback at\", now());\n      return null;\n    }\n    if (js_urls == null || js_urls.length === 0) {\n      run_callbacks();\n      return null;\n    }\n    console.debug(\"Bokeh: BokehJS not loaded, scheduling load and callback at\", now());\n    root._bokeh_is_loading = css_urls.length + js_urls.length;\n\n    function on_load() {\n      root._bokeh_is_loading--;\n      if (root._bokeh_is_loading === 0) {\n        console.debug(\"Bokeh: all BokehJS libraries/stylesheets loaded\");\n        run_callbacks()\n      }\n    }\n\n    function on_error() {\n      console.error(\"failed to load \" + url);\n    }\n\n    for (var i = 0; i < css_urls.length; i++) {\n      var url = css_urls[i];\n      const element = document.createElement(\"link\");\n      element.onload = on_load;\n      element.onerror = on_error;\n      element.rel = \"stylesheet\";\n      element.type = \"text/css\";\n      element.href = url;\n      console.debug(\"Bokeh: injecting link tag for BokehJS stylesheet: \", url);\n      document.body.appendChild(element);\n    }\n\n    const hashes = {\"https://cdn.bokeh.org/bokeh/release/bokeh-2.2.3.min.js\": \"T2yuo9Oe71Cz/I4X9Ac5+gpEa5a8PpJCDlqKYO0CfAuEszu1JrXLl8YugMqYe3sM\", \"https://cdn.bokeh.org/bokeh/release/bokeh-widgets-2.2.3.min.js\": \"98GDGJ0kOMCUMUePhksaQ/GYgB3+NH9h996V88sh3aOiUNX3N+fLXAtry6xctSZ6\", \"https://cdn.bokeh.org/bokeh/release/bokeh-tables-2.2.3.min.js\": \"89bArO+nlbP3sgakeHjCo1JYxYR5wufVgA3IbUvDY+K7w4zyxJqssu7wVnfeKCq8\"};\n\n    for (var i = 0; i < js_urls.length; i++) {\n      var url = js_urls[i];\n      var element = document.createElement('script');\n      element.onload = on_load;\n      element.onerror = on_error;\n      element.async = false;\n      element.src = url;\n      if (url in hashes) {\n        element.crossOrigin = \"anonymous\";\n        element.integrity = \"sha384-\" + hashes[url];\n      }\n      console.debug(\"Bokeh: injecting script tag for BokehJS library: \", url);\n      document.head.appendChild(element);\n    }\n  };\n\n  function inject_raw_css(css) {\n    const element = document.createElement(\"style\");\n    element.appendChild(document.createTextNode(css));\n    document.body.appendChild(element);\n  }\n\n  \n  var js_urls = [\"https://cdn.bokeh.org/bokeh/release/bokeh-2.2.3.min.js\", \"https://cdn.bokeh.org/bokeh/release/bokeh-widgets-2.2.3.min.js\", \"https://cdn.bokeh.org/bokeh/release/bokeh-tables-2.2.3.min.js\"];\n  var css_urls = [];\n  \n\n  var inline_js = [\n    function(Bokeh) {\n      Bokeh.set_log_level(\"info\");\n    },\n    function(Bokeh) {\n    \n    \n    }\n  ];\n\n  function run_inline_js() {\n    \n    if (root.Bokeh !== undefined || force === true) {\n      \n    for (var i = 0; i < inline_js.length; i++) {\n      inline_js[i].call(root, root.Bokeh);\n    }\n    if (force === true) {\n        display_loaded();\n      }} else if (Date.now() < root._bokeh_timeout) {\n      setTimeout(run_inline_js, 100);\n    } else if (!root._bokeh_failed_load) {\n      console.log(\"Bokeh: BokehJS failed to load within specified timeout.\");\n      root._bokeh_failed_load = true;\n    } else if (force !== true) {\n      var cell = $(document.getElementById(\"1001\")).parents('.cell').data().cell;\n      cell.output_area.append_execute_result(NB_LOAD_WARNING)\n    }\n\n  }\n\n  if (root._bokeh_is_loading === 0) {\n    console.debug(\"Bokeh: BokehJS loaded, going straight to plotting\");\n    run_inline_js();\n  } else {\n    load_libs(css_urls, js_urls, function() {\n      console.debug(\"Bokeh: BokehJS plotting callback run at\", now());\n      run_inline_js();\n    });\n  }\n}(window));"
     },
     "metadata": {},
     "output_type": "display_data"
    }
   ],
   "source": [
    "if not injupyternotebook:\n",
    "    #star name\n",
    "    star = argv[1]\n",
    "\n",
    "    output_intermediate_results = False\n",
    "else:\n",
    "    star = \"Sun\"\n",
    "    #star = \"teststar\"\n",
    "    indic = \"1\"\n",
    "    \n",
    "    from IPython import display\n",
    "    from IPython.core.display import display, HTML\n",
    "    from bokeh.io import output_file\n",
    "    from bokeh.plotting import Figure, output_notebook, show, save, ColumnDataSource\n",
    "\n",
    "    display(HTML(\"<style>.container { width:90% !important; }</style>\"))\n",
    "    output_notebook()\n",
    "    \n",
    "    output_intermediate_results = True"
   ]
  },
  {
   "cell_type": "code",
   "execution_count": 3,
   "metadata": {},
   "outputs": [],
   "source": [
    "stardir = './stars/'+star+'/'\n",
    "\n",
    "inf_name = stardir + 'input.py'\n",
    "exec(open(inf_name).read())"
   ]
  },
  {
   "cell_type": "code",
   "execution_count": 4,
   "metadata": {
    "scrolled": true
   },
   "outputs": [],
   "source": [
    "syspath.insert(0, \"./helper_functions/\")\n",
    "\n",
    "from classes import stellar_parameters,analyse,extract_rv_from_common_profiles,Gaussian,runLSD_inv,prep_spec3,RVerror"
   ]
  },
  {
   "cell_type": "markdown",
   "metadata": {},
   "source": [
    "### Set parameters for computation (velcity grid width etc.)\n"
   ]
  },
  {
   "cell_type": "code",
   "execution_count": 5,
   "metadata": {
    "scrolled": true
   },
   "outputs": [
    {
     "name": "stdout",
     "output_type": "stream",
     "text": [
      "0\n"
     ]
    }
   ],
   "source": [
    "if injupyternotebook:\n",
    "    paramnr = 0 \n",
    "    #results so far\n",
    "\n",
    "else:\n",
    "    paramnr = int(argv[2])\n",
    "    #results so far\n",
    "    resfile = f\"{resdir}results_{star}_{indic}.csv\"\n",
    "    results = read_csv(resfile)\n",
    "\n",
    "print(paramnr)\n",
    "\n",
    "\n",
    "#load parameter combination\n",
    "prms = read_csv(stardir+'params.csv')\n",
    "\n",
    "maxdepthparam= prms[\"maxdepthparam\"][paramnr]\n",
    "mindepthparam = prms[\"mindepthparam\"][paramnr]\n",
    "telluric_cut = prms[\"telluric_cut\"][paramnr]\n",
    "velgridwidth = prms[\"velgridwidth\"][paramnr]\n",
    "modelspecdeviationcut = prms[\"modelspecdeviationcut\"][paramnr]\n",
    "max_nr_of_specs = prms[\"max_nr_of_specs\"][paramnr]\n",
    "exclwidelinesparam = prms[\"exclwidelinesparam\"][paramnr]\n",
    "\n",
    "rassoption = prms[\"rassoption\"][paramnr]\n",
    "erroption = prms[\"erroption\"][paramnr]\n",
    "telloption = prms[\"telloption\"][paramnr]\n",
    "\n",
    "#here we save the results of this parameter combination\n",
    "newres = DataFrame()\n",
    "\n",
    "#copy entries of parameter file\n",
    "for key in prms.keys():\n",
    "    newres[key] = [prms[key][paramnr]]"
   ]
  },
  {
   "cell_type": "markdown",
   "metadata": {},
   "source": [
    "### Information about spectra"
   ]
  },
  {
   "cell_type": "code",
   "execution_count": 6,
   "metadata": {},
   "outputs": [],
   "source": [
    "info_file = read_csv(dirdir+\"Info.csv\")\n",
    "\n",
    "#set system RV. i.e. RV that is used to convert absorption line wavelengths from rest frame to stellar frame\n",
    "systemrv = (info_file[\"rv_ccf\"][0])"
   ]
  },
  {
   "cell_type": "markdown",
   "metadata": {},
   "source": [
    "### Load data from VALD3\n"
   ]
  },
  {
   "cell_type": "code",
   "execution_count": 7,
   "metadata": {},
   "outputs": [
    {
     "name": "stdout",
     "output_type": "stream",
     "text": [
      "loaded ./VALD_files/Sun.txt\n"
     ]
    }
   ],
   "source": [
    "valddir = \"./VALD_files/\"\n",
    "sp = stellar_parameters(star,valddir,dirdir,pipname,c)\n",
    "sp.VALD_data()"
   ]
  },
  {
   "cell_type": "markdown",
   "metadata": {},
   "source": [
    "### Load data from 1_preprocess notebook\n"
   ]
  },
  {
   "cell_type": "code",
   "execution_count": 8,
   "metadata": {},
   "outputs": [],
   "source": [
    "an = analyse(c,sp.VALDlambdas,sp.VALDdepths)"
   ]
  },
  {
   "cell_type": "code",
   "execution_count": 9,
   "metadata": {},
   "outputs": [],
   "source": [
    "with open(dirdir+\"data_dict.pkl\",\"rb\") as f:\n",
    "    prov = pickle.load(f)\n",
    "    an.alldata = {}\n",
    "    if rassoption==1:\n",
    "        an.alldata[\"spectrum\"] = prov[\"spectrum_overlap_corrected\"]\n",
    "        an.alldata[\"err\"] = prov[\"err_overlap_corrected\"]\n",
    "        an.alldata[\"err_envelope\"] = prov[\"err_envelope_overlap_corrected\"]\n",
    "        an.alldata[\"wavelengths\"] = prov[\"wavelengths\"]\n",
    "    del prov"
   ]
  },
  {
   "cell_type": "code",
   "execution_count": 10,
   "metadata": {},
   "outputs": [],
   "source": [
    "# save these for later.\n",
    "\n",
    "iis = list(an.alldata[\"spectrum\"].keys())\n",
    "\n",
    "#index numbers of spectra\n",
    "an.iis = iis\n",
    "\n",
    "#see input.py\n",
    "an.excllower = excllower\n",
    "an.exclupper = exclupper\n",
    "an.telluric_cut = telluric_cut\n",
    "an.modelspecdeviationcut = modelspecdeviationcut\n",
    "an.mindepthparam = mindepthparam\n",
    "an.maxdepthparam = maxdepthparam\n",
    "an.exclwidelinesparam = exclwidelinesparam\n",
    "an.telloption = telloption\n",
    "\n",
    "nr_of_orders,nr_of_pixels = an.alldata[\"spectrum\"][0].shape\n",
    "\n",
    "#shift fluxes to between -1 and 0 for lsd procedure\n",
    "for key in iis:\n",
    "    an.alldata[\"spectrum\"][key] = an.alldata[\"spectrum\"][key]-1\n",
    "    \n",
    "    \n",
    "    \n",
    "an.tapas_tellurics = {}\n",
    "an.resdir = resdir"
   ]
  },
  {
   "cell_type": "code",
   "execution_count": 11,
   "metadata": {},
   "outputs": [],
   "source": [
    "an.barycentric_to_stellar_restframe = {}\n",
    "an.observatory_to_barycentric_restframe = {}\n",
    "an.observatory_to_stellar_restframe = {}\n",
    "\n",
    "for ii in iis:\n",
    "    an.barycentric_to_stellar_restframe[ii] = 1.0 / (1.0 + systemrv / c)\n",
    "    an.observatory_to_barycentric_restframe[ii] = 1.0 + info_file[\"berv\"][0] / c\n",
    "    an.observatory_to_stellar_restframe[ii] = (\n",
    "        an.observatory_to_barycentric_restframe[ii]\n",
    "        * an.barycentric_to_stellar_restframe[ii]\n",
    "    )"
   ]
  },
  {
   "cell_type": "code",
   "execution_count": 12,
   "metadata": {},
   "outputs": [
    {
     "data": {
      "image/png": "[encoded data removed]",
      "text/plain": [
       "<Figure size 576x288 with 1 Axes>"
      ]
     },
     "metadata": {},
     "output_type": "display_data"
    }
   ],
   "source": [
    "if output_intermediate_results:\n",
    "    sp.inspect_data(0,an.alldata[\"spectrum\"][0]+1,an.alldata[\"wavelengths\"][0],5000,20)"
   ]
  },
  {
   "cell_type": "markdown",
   "metadata": {},
   "source": [
    "### Get tapas telluric information"
   ]
  },
  {
   "cell_type": "code",
   "execution_count": 13,
   "metadata": {
    "scrolled": true
   },
   "outputs": [
    {
     "name": "stdout",
     "output_type": "stream",
     "text": [
      "loaded tellurics from ./tellurics/telluricsSun.pkl\n"
     ]
    }
   ],
   "source": [
    "compute_tellurics = True\n",
    "\n",
    "if os.path.exists(\"./tellurics/tellurics\"+star+\".pkl\"):\n",
    "    with open(\"./tellurics/tellurics\"+star+\".pkl\",\"rb\") as f:\n",
    "        an.tapas_tellurics = pickle.load(f)\n",
    "        \n",
    "    if len(iis) == len(an.tapas_tellurics.keys()):\n",
    "        compute_tellurics = False\n",
    "        if output_intermediate_results:\n",
    "            print(f\"loaded tellurics from ./tellurics/tellurics\"+star+\".pkl\")\n",
    "    else:\n",
    "        compute_tellurics = True\n",
    "        \n",
    "\n",
    "if compute_tellurics:\n",
    "    print(\"produce tellurics\")\n",
    "    \n",
    "    transmittance_file = None\n",
    "    an.get_tapas_transmittance(pipname , transmittance_file, info_file)\n",
    "    print(\"save tellurics in \",\"./tellurics/tellurics\"+star+\".pkl\")\n",
    "    with open(\"./tellurics/tellurics\"+star+\".pkl\",\"wb\") as f:\n",
    "        pickle.dump(an.tapas_tellurics,f)"
   ]
  },
  {
   "cell_type": "markdown",
   "metadata": {},
   "source": [
    "### Set preliminary velocity grid\n"
   ]
  },
  {
   "cell_type": "code",
   "execution_count": 14,
   "metadata": {
    "scrolled": true
   },
   "outputs": [],
   "source": [
    "#set velocity grid\n",
    "\n",
    "#roughly centre velocity grid around the rv of the star of the first measurement. add +- dvel km/s\n",
    "dvel = 20\n",
    "vel_inital = np.arange(systemrv-dvel, systemrv+dvel, vStep)\n",
    "\n",
    "#set upper limit to number of absorption lines of depth min_depth_required within a region (other regions excluded)\n",
    "an.alldata[\"vel_inital\"] = vel_inital"
   ]
  },
  {
   "cell_type": "markdown",
   "metadata": {},
   "source": [
    "### FIRST RUN OF LSD (TO GET FWHM OF SPECTRA, FIRST COMMON PROFILE, AND TO CHECK DEVIATION OF SPECTRA FROM CONVOLUTION MODEL))"
   ]
  },
  {
   "cell_type": "code",
   "execution_count": 15,
   "metadata": {
    "scrolled": true
   },
   "outputs": [],
   "source": [
    "#choose test spectrum for the first LSD run\n",
    "test_ii = 0\n",
    "\n",
    "an.test_ii = test_ii\n",
    "\n",
    "#get fluxes, wavelengths, and weights for first spectrum\n",
    "an.prep_spec(iis[test_ii],an.alldata,erroption)\n",
    "\n",
    "#choose echelle orders to run code on (all here)\n",
    "testorders = np.arange(nr_of_orders)\n",
    "\n",
    "#get rough common profile (equal weight for each order). this is only used to get an idea about the common profile shape.\n",
    "zlast = np.zeros((len(vel_inital))) \n",
    "model_h = np.zeros((nr_of_orders,nr_of_pixels))\n",
    "count = 0\n",
    "\n",
    "for order in testorders:\n",
    "    output = an.worker(order,vel_inital)\n",
    "    if not np.isnan(output[0]).any():\n",
    "        model_h[order,:] = output[1]\n",
    "        zlast += output[0]\n",
    "        count +=1\n",
    "zlast/=count\n",
    "\n",
    "an.model_h = model_h\n",
    "an.div = np.abs(model_h - an.spectrum)"
   ]
  },
  {
   "cell_type": "code",
   "execution_count": 16,
   "metadata": {
    "scrolled": true
   },
   "outputs": [
    {
     "data": {
      "image/png": "[encoded data removed]",
      "text/plain": [
       "<Figure size 360x216 with 1 Axes>"
      ]
     },
     "metadata": {},
     "output_type": "display_data"
    }
   ],
   "source": [
    "#first common profile\n",
    "\n",
    "#fit gaussian to common profile and extraxt hwhm\n",
    "popt, pcov = curve_fit(Gaussian, vel_inital, zlast, [-1, systemrv, 3, 0])\n",
    "fit = Gaussian(vel_inital,*popt)  \n",
    "\n",
    "vel_hwhm = np.abs(popt[2])*np.sqrt(np.log(2.)*2.)\n",
    "\n",
    "if output_intermediate_results:\n",
    "    plt.figure(figsize=(5,3))\n",
    "    plt.plot(vel_inital,zlast,\".\",label=\"Common Profile\")\n",
    "    plt.plot(vel_inital,fit,label=\"Fit (Gaussian)\")\n",
    "    \n",
    "    plt.xlabel(\"Vel\")\n",
    "    plt.title(np.round(vel_hwhm,2))\n",
    "    plt.legend()\n",
    "\n",
    "#estimate typical half-width of an absorption line as 5 times the hwhm\n",
    "#will be multiplied by wvl when used\n",
    "\n",
    "an.alldata[\"initial_v_halfwidth\"]=vel_hwhm"
   ]
  },
  {
   "cell_type": "markdown",
   "metadata": {},
   "source": [
    "### Set velocity grid"
   ]
  },
  {
   "cell_type": "code",
   "execution_count": 17,
   "metadata": {
    "scrolled": true
   },
   "outputs": [],
   "source": [
    "#new velocity grid based on first run.\n",
    "\n",
    "dvel = np.round(vel_hwhm)*velgridwidth\n",
    "vel = np.arange(systemrv-dvel, systemrv+dvel, vStep)\n",
    "\n",
    "#set upper limit to number of absorption lines of depth min_depth_required within a region (other regions excluded)\n",
    "an.alldata[\"vel\"] = vel\n",
    "\n",
    "#how much should we exclude near data points with high model-spectrum deviation?\n",
    "an.alldata[\"absline_halfwidth_include\"] = (vel.max()-vel.min()+1.)/2./c"
   ]
  },
  {
   "cell_type": "markdown",
   "metadata": {},
   "source": [
    "### EXCLUDE SPECTRAL REGIONS WITH HIGH MODEL-SPECTRUM DEVIATION"
   ]
  },
  {
   "cell_type": "code",
   "execution_count": 18,
   "metadata": {
    "scrolled": true
   },
   "outputs": [],
   "source": [
    "an.get_wide_lines()\n",
    "an.get_q_map(info_file)\n",
    "#get telluric map.\n",
    "an.get_t_map()"
   ]
  },
  {
   "cell_type": "code",
   "execution_count": 19,
   "metadata": {
    "scrolled": true
   },
   "outputs": [],
   "source": [
    "if output_intermediate_results and False:\n",
    "    an.show_map()"
   ]
  },
  {
   "cell_type": "markdown",
   "metadata": {},
   "source": [
    "### RUN LSD ON ALL SPECTRA WITH QUALITY/TELLURIC MAP"
   ]
  },
  {
   "cell_type": "code",
   "execution_count": 20,
   "metadata": {
    "scrolled": true
   },
   "outputs": [],
   "source": [
    "def worker3(order,weights,spectrum,wavelengths,vlambda,vdepth,vel):\n",
    "    \"\"\"\n",
    "    For given order: perform LSD and extract the common profile, common profile uncertainties. Compute convolution model \n",
    "    Parameters\n",
    "    ----------\n",
    "    order : int\n",
    "        First array: periods [d]\n",
    "    weights : array orders x pixels\n",
    "        Weights of the individual fluxes\n",
    "    spectrum : array orders x pixels\n",
    "        Fluxes\n",
    "    wavelengths : array orders x pixels\n",
    "        Wavelength corresponding to the fluxes\n",
    "    vlambda : array\n",
    "        Central wavelength of absorption lines (VALD3)\n",
    "    vdepth : array\n",
    "        Depth of absorption lines (VALD3)\n",
    "    vel : array\n",
    "        Velocity grid to run LSD on (velocity grid for common profile)\n",
    "    \n",
    "    Output:\n",
    "    ----------\n",
    "    Z : array\n",
    "        common profile\n",
    "    Zerr : array\n",
    "        uncertainty estimates of common profile\n",
    "    M.dot(Z) : array\n",
    "        convolution model\n",
    "    selection : array\n",
    "        indices of included pixels\n",
    "    \"\"\"    \n",
    "\n",
    "    #Get data of given order\n",
    "\n",
    "    #Only include data with weight > 0\n",
    "    selection = np.where(weights[order,:]>0)[0]\n",
    "    spectrum_o = spectrum[order,:][selection]\n",
    "\n",
    "    #Don't run if only 2% of order included. Bad order.\n",
    "    if len(selection)<0.02*len(spectrum_o):\n",
    "        return 0\n",
    "    \n",
    "    wavelengths_o = wavelengths[order,:][selection]\n",
    "    weights_o = weights[order,:][selection]           \n",
    "\n",
    "    #CREATE CONVOLUTION MATRIX\n",
    "    #-----------------------------------------------------\n",
    "    value, row, column = an.cvmt(wavelengths_o, vel, vlambda,vdepth)\n",
    "    \n",
    "    M = csc_matrix((value,(row,column)), shape=(len(wavelengths_o), len(vel)))\n",
    "    #-----------------------------------------------------\n",
    "\n",
    "    Z,Zerr = runLSD_inv(value, row, column, len(wavelengths_o), len(vel), weights_o, spectrum_o) \n",
    "    \n",
    "    return Z,Zerr,M.dot(Z),selection\n"
   ]
  },
  {
   "cell_type": "code",
   "execution_count": 21,
   "metadata": {},
   "outputs": [],
   "source": [
    "#multiprocessing\n",
    "num_processors = 4\n",
    "\n",
    "#on which orders to run\n",
    "testorders = np.arange(nr_of_orders)\n",
    "\n",
    "#save results here\n",
    "LSD_results = {}\n",
    "\n",
    "vel = an.alldata[\"vel\"]"
   ]
  },
  {
   "cell_type": "code",
   "execution_count": 22,
   "metadata": {
    "scrolled": false
   },
   "outputs": [
    {
     "name": "stdout",
     "output_type": "stream",
     "text": [
      "0 0.0\n",
      "1 0.47\n",
      "2 0.9\n",
      "3 1.45\n",
      "4 1.78\n",
      "Computation time: 0.0 minutes\n"
     ]
    }
   ],
   "source": [
    "t_start = time()\n",
    "\n",
    "for ii in iis:\n",
    "    if output_intermediate_results:\n",
    "        print(ii,np.round(time()-t_start,2))\n",
    "    \n",
    "    #get weights, spectrum, wavelengths after excluding some data according to parameters.\n",
    "    weights,spectrum,wavelengths = prep_spec3(an.alldata,ii,an.tapas_tellurics,erroption=erroption,usetapas=usetapas)\n",
    "\n",
    "    #empty containers\n",
    "    LSD_results[ii] = {}\n",
    "    common_profile_all_orders = np.zeros((np.shape(wavelengths)[0],len(vel)))\n",
    "    common_profile_all_orders_err = np.zeros((np.shape(wavelengths)[0],len(vel)))\n",
    "    MZ = np.zeros((np.shape(wavelengths)[0],len(an.alldata[\"spectrum\"][ii][20,:])))\n",
    "    incl_map = np.zeros((np.shape(MZ)))\n",
    "\n",
    "    #partial function for multiprocessing\n",
    "    worker_partial3 = partial(worker3,\n",
    "                              weights=weights,\n",
    "                              spectrum=spectrum,\n",
    "                              wavelengths=wavelengths,\n",
    "                              vlambda=sp.VALDlambdas,\n",
    "                              vdepth=sp.VALDdepths,\n",
    "                              vel=vel)\n",
    "\n",
    "    #initialise multiprocessing\n",
    "    with get_context(\"fork\").Pool(processes = num_processors) as p:\n",
    "        output = p.map(worker_partial3,[order for order in testorders])\n",
    "\n",
    "    #save output into containers\n",
    "    for order in testorders:\n",
    "        if output[order]!=0:\n",
    "            common_profile_all_orders[order,:] = output[order][0]\n",
    "            common_profile_all_orders_err[order,:] = output[order][1]\n",
    "            selection = output[order][3]\n",
    "            MZ[order,:][selection] = output[order][2]\n",
    "            incl_map[order,:][selection] = np.ones((len(selection)))\n",
    "\n",
    "    #save results in dict\n",
    "    LSD_results[ii][\"common_profile\"] = common_profile_all_orders  \n",
    "    LSD_results[ii][\"common_profile_err\"] = common_profile_all_orders_err\n",
    "    LSD_results[ii][\"LSD_spectrum_model\"] = MZ   # LSD_spectrum\n",
    "    LSD_results[ii][\"incl_map\"] = incl_map\n",
    "    \n",
    "if injupyternotebook:\n",
    "    print(\"Computation time:\", np.round((time()-t_start)/60.,1),\"minutes\")"
   ]
  },
  {
   "cell_type": "code",
   "execution_count": 23,
   "metadata": {
    "scrolled": true
   },
   "outputs": [
    {
     "data": {
      "image/png": "[encoded data removed]",
      "text/plain": [
       "<Figure size 504x360 with 1 Axes>"
      ]
     },
     "metadata": {},
     "output_type": "display_data"
    }
   ],
   "source": [
    "# inspect the individual common profiles\n",
    "if output_intermediate_results:\n",
    "\n",
    "    plt.figure(figsize=(7,5))\n",
    "    \n",
    "    for order in range(len(LSD_results[test_ii][\"common_profile\"])):\n",
    "\n",
    "        color = rgb2hex(rainbow(order/nr_of_orders))\n",
    "\n",
    "        plt.plot(vel,LSD_results[ii][\"common_profile\"][order],color=color)\n",
    "        \n",
    "        if order//10 == order/10:\n",
    "            plt.plot(vel,LSD_results[ii][\"common_profile\"][order],color=color,label=\"Order \"+str(order))\n",
    "        else:\n",
    "            plt.plot(vel,LSD_results[ii][\"common_profile\"][order],color=color)\n",
    "\n",
    "    plt.legend()\n",
    "    plt.ylim(-1.3,0.2)\n",
    "    \n",
    "    plt.xlabel(\"Velocity grid [km/s]\")\n",
    "    plt.title(\"Common profiles of individual orders\")\n",
    "    \n",
    "    plt.savefig(an.resdir+f\"Common_profiles.pdf\")"
   ]
  },
  {
   "cell_type": "code",
   "execution_count": 24,
   "metadata": {
    "scrolled": true
   },
   "outputs": [],
   "source": [
    "#define weight matrix to compute order weights (to combine common profiles to master common profile)\n",
    "\n",
    "wmat = np.ones((len(iis),nr_of_orders))\n",
    "\n",
    "for count1,ii in enumerate(iis):\n",
    "    if erroption == 0:\n",
    "        pre_weights = 1./(an.alldata[\"err\"][ii]**2)\n",
    "    if erroption ==1:\n",
    "        pre_weights = 1./(an.alldata[\"err_envelope\"][ii]**2)\n",
    "    if erroption ==2:\n",
    "        err = np.transpose(np.tile(np.median(an.alldata[\"err\"][ii],axis=1),(np.shape(an.alldata[\"err\"][0])[1],1)))\n",
    "        pre_weights = 1./(err**2)\n",
    "\n",
    "    pre_weights[LSD_results[ii][\"incl_map\"]==0]=0\n",
    "\n",
    "    for count,order in enumerate(testorders):\n",
    "        wmat[count1,order] = np.nanmean(pre_weights[order,:])\n",
    "\n",
    "an.alldata[\"order_weight\"] = np.mean(wmat,axis=0)"
   ]
  },
  {
   "cell_type": "code",
   "execution_count": 25,
   "metadata": {
    "scrolled": false
   },
   "outputs": [],
   "source": [
    "#check excluding outer parts of common profile. see paper.\n",
    "testsigma = np.arange(1.0,5,step=0.25)*an.alldata[\"initial_v_halfwidth\"]\n",
    "\n",
    "\n",
    "std_dep_on_sigma = np.zeros((len(testsigma)))\n",
    "an.alldata[\"fitfunction\"] = \"Gaussian\"\n",
    "order_choice = np.arange(nr_of_orders)\n",
    "\n",
    "for count,sigma in enumerate(testsigma):\n",
    "    an.alldata[\"sigmafit\"] = sigma\n",
    "\n",
    "    lsd_rv_orig, Zs,Z,Zerrs = extract_rv_from_common_profiles(LSD_results,an.alldata,iis,order_choice,weight_orders=weight_schemes[0],use_uncertainties=True)\n",
    "    \n",
    "    lsd_norm_t = lsd_rv_orig - np.median(lsd_rv_orig)\n",
    "    no_outliers = np.where(np.abs(lsd_norm_t-np.median(lsd_norm_t))<delta_rv_outlier)[0]\n",
    "\n",
    "    lsd_norm_t = lsd_norm_t[no_outliers]\n",
    "    std_dep_on_sigma[count] = np.std(lsd_norm_t)\n",
    "\n",
    "an.alldata[\"sigmafit\"] = testsigma[np.argmin(std_dep_on_sigma)]\n",
    "an.alldata[\"sigmafit_used\"] = np.copy(testsigma[np.argmin(std_dep_on_sigma)])\n",
    "\n"
   ]
  },
  {
   "cell_type": "code",
   "execution_count": 26,
   "metadata": {},
   "outputs": [],
   "source": [
    "if len(iis)!=len(no_outliers):\n",
    "    print(f\"Removed {len(iis)-len(no_outliers)} out of {len(iis)} spectra due to |RV-med(RV)| >= delta_rv_outlier (= {delta_rv_outlier} m/s)\")"
   ]
  },
  {
   "cell_type": "code",
   "execution_count": 27,
   "metadata": {
    "scrolled": true
   },
   "outputs": [
    {
     "name": "stdout",
     "output_type": "stream",
     "text": [
      "LSD RMS:  1.0 m/s\n"
     ]
    }
   ],
   "source": [
    "#compare LSD results to DRS CCF method\n",
    "drs_rv_orig = info_file[\"rv_ccf\"].values*1000.\n",
    "t = info_file[\"mjd\"].values\n",
    "\n",
    "\n",
    "for weight_scheme in weight_schemes:\n",
    "    for use_uncertainties in [True]:\n",
    "        #only second one is used for plots later on\n",
    "\n",
    "        #\"flux weight2b\": weight of order o same for all spectra (=weight of order o in first spectrum)\n",
    "        #\"flux weight2c\": weight of order o varies (depending on weight of fluxes in order o in spectrum ii)\n",
    "\n",
    "        #choose an LSD container\n",
    "\n",
    "        #this extracts the RV information\n",
    "        lsd_rv_orig, Zs,Z,Zerrs = extract_rv_from_common_profiles(LSD_results,an.alldata,iis,order_choice,weight_orders=weight_scheme,use_uncertainties=use_uncertainties)\n",
    "\n",
    "        if pipname == \"DRS_3.7\":\n",
    "            #drift correction\n",
    "            lsd_rv_orig -= info_file[\"drift\"].values\n",
    "            #drs_rv_orig -= info_file[\"drift\"].values\n",
    "\n",
    "        # subtract median radial velocity to analyse rv change   \n",
    "        drs_norm = drs_rv_orig - np.median(drs_rv_orig)\n",
    "        lsd_norm = lsd_rv_orig - np.median(lsd_rv_orig)\n",
    "\n",
    "        #------------------------\n",
    "        #remove outliers\n",
    "        no_outliers = np.where(np.abs(drs_norm-np.median(drs_norm))<200)[0]\n",
    "\n",
    "        if len(no_outliers)<len(drs_norm):\n",
    "            print(f\"Removed {len(drs_norm)-len(no_outliers)} outliers.\")\n",
    "\n",
    "        drs_norm = drs_norm[no_outliers]\n",
    "        lsd_norm = lsd_norm[no_outliers]\n",
    "\n",
    "        t = t[no_outliers]\n",
    "\n",
    "        #yerr = np.asarray(list(an.alldata[\"ccfrvs_err\"].values()))[no_outliers]*1000.\n",
    "        yerr = info_file[\"rv_ccf_error\"].values[no_outliers]*1000.\n",
    "\n",
    "        #------------------------\n",
    "\n",
    "\n",
    "        difference = drs_norm -lsd_norm\n",
    "\n",
    "        print(\"LSD RMS: \",np.std(lsd_norm).round(2),\"m/s\")\n"
   ]
  },
  {
   "cell_type": "code",
   "execution_count": 28,
   "metadata": {
    "scrolled": false
   },
   "outputs": [
    {
     "name": "stdout",
     "output_type": "stream",
     "text": [
      "STD:\t LSD: 1.00 m/s \t \t DRS: 2.41 m/s\n",
      "MAD:\t LSD: 0.81 m/s \t \t DRS: 2.76 m/s\n"
     ]
    },
    {
     "data": {
      "image/png": "[encoded data removed]",
      "text/plain": [
       "<Figure size 1008x273.6 with 2 Axes>"
      ]
     },
     "metadata": {},
     "output_type": "display_data"
    }
   ],
   "source": [
    "if output_intermediate_results:\n",
    "\n",
    "    fig,ax = plt.subplots(2,1,figsize=(14,3.8),gridspec_kw={'height_ratios': [3, 1]},sharex=True)\n",
    "    ax[0].set_title(\"RVs in barycentric frame\")\n",
    "    #ax[0].set_ylim(-10,20)\n",
    "\n",
    "    ax[0].plot(t ,drs_norm,\"D\",label=f\"CCF technique. RMS: {np.std(drs_norm):.2f} m/s\")\n",
    "    ax[0].plot(t ,lsd_norm,\".\",label=f\"LSD technique. RMS: {np.std(lsd_norm):.2f} m/s\")\n",
    "    #ax[0].plot(t-2450000 ,lsd_norm_avg,\".\",label=\"LSD\\_avg\")\n",
    "\n",
    "\n",
    "    ax[0].set_ylabel(\"RV [m/s]\",fontsize=15)\n",
    "    ax[0].legend(fontsize=15)\n",
    "    ax[1].errorbar(t,difference,yerr=yerr, fmt='o',color=\"black\")\n",
    "\n",
    "    plt.xlabel(r\"MJD\",fontsize=15)\n",
    "\n",
    "    print(f\"STD:\\t LSD: {np.std(lsd_norm):.2f} m/s \\t \\t DRS: {np.std(drs_norm):.2f} m/s\")\n",
    "    print(f\"MAD:\\t LSD: {median_abs_deviation(lsd_norm):.2f} m/s \\t \\t DRS: {median_abs_deviation(drs_norm):.2f} m/s\")\n",
    "    \n",
    "    plt.savefig(an.resdir+f\"RVs.pdf\")\n",
    "    "
   ]
  },
  {
   "cell_type": "code",
   "execution_count": 29,
   "metadata": {},
   "outputs": [],
   "source": [
    "#save results\n",
    "if not injupyternotebook:\n",
    "    yerr_wls = np.zeros((len(lsd_norm)))\n",
    "    for count,ii in enumerate(np.asarray(iis)[no_outliers]):\n",
    "        rverrc = RVerror(vel, Zs[ii], Zerrs[ii])\n",
    "        yerr_wls[count] = rverrc*1000.\n",
    "\n",
    "\n",
    "    newres[\"LSD RV std\"] = [np.std(lsd_norm).round(3)]\n",
    "    newres[\"LSD RV MAD\"] = [median_abs_deviation(lsd_norm).round(3)]\n",
    "    newres[\"DRS RV std\"] = [np.std(drs_norm).round(3)]\n",
    "    newres[\"DRS RV MAD\"] = [median_abs_deviation(drs_norm).round(3)]\n",
    "    newres[\"sigmafit_used\"] = [an.alldata[\"sigmafit_used\"].round(3)]\n",
    "    newres[\"comp time\"] = [np.round(time()-t00,1)]\n",
    "    \n",
    "    nn = concat([results,newres])\n",
    "    nn.to_csv(resfile,index=False)\n",
    "    \n",
    "    \n",
    "    \n",
    "\n",
    "    if os.path.exists(rvresfile):\n",
    "        f = open(rvresfile,\"rb\")\n",
    "        dth = pickle.load(f)\n",
    "        dth[paramnr]= lsd_norm  \n",
    "        f.close()\n",
    "    else:\n",
    "        f = open(rvresfile,\"wb\")\n",
    "        dth = {}\n",
    "        dth[\"mjd\"] = t\n",
    "        dth[\"rv_ccf\"] = drs_norm\n",
    "        dth[\"rv_ccf_err\"] = yerr\n",
    "        \n",
    "        dth[paramnr]=lsd_norm\n",
    "        \n",
    "    f = open(rvresfile,\"wb\")\n",
    "    pickle.dump(dth,f)\n",
    "    f.close()\n",
    "    \n",
    "    if os.path.exists(rverrresfile):\n",
    "        f = open(rverrresfile,\"rb\")\n",
    "        dth = pickle.load(f)\n",
    "        dth[paramnr] = yerr_wls  \n",
    "        f.close()\n",
    "    else:\n",
    "        f = open(rverrresfile,\"wb\")\n",
    "        dth = {}\n",
    "        dth[\"mjd\"] = t\n",
    "        dth[\"rv_ccf\"] = drs_norm\n",
    "        dth[\"rv_ccf_err\"] = yerr\n",
    "        \n",
    "        dth[paramnr] = yerr_wls\n",
    "        \n",
    "    f = open(rverrresfile,\"wb\")\n",
    "    pickle.dump(dth,f)\n",
    "    f.close()\n",
    "    \n",
    "    \n",
    "    if os.path.exists(commonprofilefile):\n",
    "        f = open(commonprofilefile,\"rb\")\n",
    "        dth = pickle.load(f)\n",
    "        dth[f\"vel_{paramnr}\"]= vel\n",
    "        dth[f\"Z_{paramnr}\"]= Zs\n",
    "        f.close()\n",
    "    else:\n",
    "        f = open(commonprofilefile,\"wb\")\n",
    "        dth = {}\n",
    "        dth[\"mjd\"] = t\n",
    "        dth[f\"vel_{paramnr}\"] = vel\n",
    "        dth[f\"Z_{paramnr}\"] = Zs \n",
    "        \n",
    "    f = open(commonprofilefile,\"wb\")\n",
    "    pickle.dump(dth,f)\n",
    "    f.close()"
   ]
  },
  {
   "cell_type": "code",
   "execution_count": null,
   "metadata": {},
   "outputs": [],
   "source": []
  }
 ],
 "metadata": {
  "kernelspec": {
   "display_name": "Python 3 (ipykernel)",
   "language": "python",
   "name": "python3"
  },
  "language_info": {
   "codemirror_mode": {
    "name": "ipython",
    "version": 3
   },
   "file_extension": ".py",
   "mimetype": "text/x-python",
   "name": "python",
   "nbconvert_exporter": "python",
   "pygments_lexer": "ipython3",
   "version": "3.7.11"
  }
 },
 "nbformat": 4,
 "nbformat_minor": 4
}
