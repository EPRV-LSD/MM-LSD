{
 "cells": [
  {
   "cell_type": "code",
   "execution_count": 1,
   "id": "labeled-relay",
   "metadata": {},
   "outputs": [],
   "source": [
    "import numpy as np\n",
    "import sys\n",
    "import os\n",
    "import pandas as pd\n",
    "import matplotlib.pyplot as plt\n",
    "import time\n",
    "from itertools import combinations,product"
   ]
  },
  {
   "cell_type": "code",
   "execution_count": 2,
   "id": "f0bf79ea",
   "metadata": {},
   "outputs": [],
   "source": [
    "#star = \"teststar\"\n",
    "star = str(sys.argv[1])\n",
    "\n",
    "stardir = './stars/'+star+'/'\n",
    "inf_name = stardir + 'input.py'\n",
    "\n",
    "exec(open(inf_name).read())"
   ]
  },
  {
   "cell_type": "code",
   "execution_count": 3,
   "id": "c2b80779",
   "metadata": {},
   "outputs": [],
   "source": [
    "params = pd.DataFrame()\n",
    "\n",
    "\n",
    "listOLists =  [grid[\"max_nr_of_specs\"],\n",
    "               grid[\"velgridwidth\"],\n",
    "               grid[\"telluric_cut\"],\n",
    "               grid[\"mindepthparam\"],\n",
    "               grid[\"maxdepthparam\"],\n",
    "               grid[\"modelspecdeviationcut\"],\n",
    "               grid[\"exclwidelinesparam\"],\n",
    "               grid[\"telloption\"],\n",
    "               grid[\"erroption\"],\n",
    "               grid[\"rassoption\"]]\n"
   ]
  },
  {
   "cell_type": "code",
   "execution_count": 4,
   "id": "adaptive-switch",
   "metadata": {},
   "outputs": [
    {
     "name": "stdout",
     "output_type": "stream",
     "text": [
      "(32, 10) 32\n"
     ]
    }
   ],
   "source": [
    "em = np.zeros((np.prod([len(l) for l in listOLists])))\n",
    "\n",
    "count = 0\n",
    "\n",
    "for keyword in grid.keys():\n",
    "    params[keyword] = em    \n",
    "    \n",
    "for paramlist in product(*listOLists):\n",
    "\n",
    "    for cn,keyword in enumerate(grid.keys()):\n",
    "        if cn<len(listOLists):\n",
    "            params[keyword][count] = paramlist[cn] \n",
    "    count+=1     \n",
    "                                            \n",
    "params.to_csv('./stars/'+star+'/params.csv',index=False)\n",
    "\n",
    "print(params.shape,count)\n",
    "count_later = np.copy(count)"
   ]
  },
  {
   "cell_type": "code",
   "execution_count": 5,
   "id": "essential-liabilities",
   "metadata": {},
   "outputs": [],
   "source": [
    "results = pd.DataFrame()\n",
    "\n",
    "for keyword in grid.keys():\n",
    "    results[keyword] = []\n",
    "\n",
    "results[\"LSD RV std\"] = []\n",
    "results[\"LSD RV MAD\"] = []\n",
    "results[\"DRS RV std\"] = []\n",
    "results[\"DRS RV MAD\"] = []\n",
    "results[\"sigmafit_used\"] = []\n",
    "results[\"comp time\"] = []\n",
    "\n",
    "results.to_csv(resdir+f\"results_{star}_{indic}.csv\",index=False)"
   ]
  },
  {
   "cell_type": "code",
   "execution_count": 27,
   "id": "57dd4407",
   "metadata": {},
   "outputs": [],
   "source": [
    "if os.path.exists(rvresfile): \n",
    "    os.remove(rvresfile)\n",
    "    os.remove(rverrresfile)\n",
    "    os.remove(commonprofilefile)"
   ]
  }
 ],
 "metadata": {
  "kernelspec": {
   "display_name": "Python 3 (ipykernel)",
   "language": "python",
   "name": "python3"
  },
  "language_info": {
   "codemirror_mode": {
    "name": "ipython",
    "version": 3
   },
   "file_extension": ".py",
   "mimetype": "text/x-python",
   "name": "python",
   "nbconvert_exporter": "python",
   "pygments_lexer": "ipython3",
   "version": "3.7.11"
  }
 },
 "nbformat": 4,
 "nbformat_minor": 5
}
